{
 "cells": [
  {
   "cell_type": "code",
   "execution_count": 78,
   "metadata": {
    "colab": {},
    "colab_type": "code",
    "id": "SZ319eYDHtpn"
   },
   "outputs": [],
   "source": [
    "# import these libraries, install if necessary.\n",
    "import operator\n",
    "import json\n",
    "import numpy as np\n",
    "import pandas as pd\n",
    "import matplotlib.pyplot as plt\n",
    "from sklearn.datasets import make_moons, make_circles, make_classification,make_blobs,load_iris\n",
    "from sklearn.cluster import DBSCAN\n",
    "from sklearn.neighbors import NearestNeighbors\n",
    "from sklearn.preprocessing import LabelEncoder,MinMaxScaler, StandardScaler, OneHotEncoder\n",
    "from sklearn.model_selection import train_test_split, ParameterGrid, cross_val_score\n",
    "from sklearn.metrics import accuracy_score, confusion_matrix, mean_squared_error, log_loss, davies_bouldin_score, silhouette_score\n",
    "from scipy.integrate import odeint\n",
    "from collections import OrderedDict\n",
    "from IPython import display\n",
    "from keras.datasets import mnist\n",
    "from tqdm import tqdm_notebook\n",
    "# !pip install lmfit\n",
    "import lmfit\n",
    "from lmfit.lineshapes import gaussian, lorentzian\n",
    "np.random.seed(0)\n",
    "\n",
    "import warnings\n",
    "warnings.filterwarnings('ignore')\n",
    "#@title Beautifying_Plot\n",
    "\n",
    "import matplotlib.pyplot as plt\n",
    "import seaborn as sns\n",
    "from matplotlib import cycler\n",
    "colors = cycler('color',\n",
    "                ['#EE6666', '#3388BB', '#9988DD',\n",
    "                 '#EECC55', '#88BB44', '#FFBBBB'])\n",
    "plt.rc('axes', facecolor='#E6E6E6', edgecolor='none',\n",
    "       axisbelow=True, grid=True, prop_cycle=colors)\n",
    "plt.rc('grid', color='w', linestyle='solid')\n",
    "plt.rc('xtick', direction='out', color='gray')\n",
    "plt.rc('ytick', direction='out', color='gray')\n",
    "plt.rc('patch', edgecolor='#E6E6E6')\n",
    "plt.rc('lines', linewidth=2)"
   ]
  },
  {
   "cell_type": "markdown",
   "metadata": {
    "colab_type": "text",
    "id": "vlaPX65MH17q"
   },
   "source": [
    "## Covid-19 Data visualisation"
   ]
  },
  {
   "cell_type": "code",
   "execution_count": 79,
   "metadata": {
    "colab": {},
    "colab_type": "code",
    "id": "C68cr-8vH0eb"
   },
   "outputs": [],
   "source": [
    "covid_data = pd.read_csv(\"https://tinyurl.com/t59cgxn\", parse_dates=[\"Date\"], skiprows=[1])"
   ]
  },
  {
   "cell_type": "code",
   "execution_count": 80,
   "metadata": {
    "colab": {},
    "colab_type": "code",
    "id": "ftZAF3TnJWrp"
   },
   "outputs": [],
   "source": [
    "date = np.array(covid_data.groupby(\"Date\", as_index=False).sum()[['Date']])"
   ]
  },
  {
   "cell_type": "code",
   "execution_count": 81,
   "metadata": {
    "colab": {
     "base_uri": "https://localhost:8080/",
     "height": 204
    },
    "colab_type": "code",
    "id": "PzifH5vZzv8s",
    "outputId": "d948a908-c8d4-4e30-8822-4570fabb76e3"
   },
   "outputs": [
    {
     "data": {
      "text/html": [
       "<div>\n",
       "<style scoped>\n",
       "    .dataframe tbody tr th:only-of-type {\n",
       "        vertical-align: middle;\n",
       "    }\n",
       "\n",
       "    .dataframe tbody tr th {\n",
       "        vertical-align: top;\n",
       "    }\n",
       "\n",
       "    .dataframe thead th {\n",
       "        text-align: right;\n",
       "    }\n",
       "</style>\n",
       "<table border=\"1\" class=\"dataframe\">\n",
       "  <thead>\n",
       "    <tr style=\"text-align: right;\">\n",
       "      <th></th>\n",
       "      <th>Province/State</th>\n",
       "      <th>Country/Region</th>\n",
       "      <th>Lat</th>\n",
       "      <th>Long</th>\n",
       "      <th>Date</th>\n",
       "      <th>Value</th>\n",
       "      <th>ISO 3166-1 Alpha 3-Codes</th>\n",
       "      <th>Region Code</th>\n",
       "      <th>Sub-region Code</th>\n",
       "      <th>Intermediate Region Code</th>\n",
       "    </tr>\n",
       "  </thead>\n",
       "  <tbody>\n",
       "    <tr>\n",
       "      <th>0</th>\n",
       "      <td>NaN</td>\n",
       "      <td>Afghanistan</td>\n",
       "      <td>33.93911</td>\n",
       "      <td>67.709953</td>\n",
       "      <td>2021-06-12</td>\n",
       "      <td>3449</td>\n",
       "      <td>AFG</td>\n",
       "      <td>142.0</td>\n",
       "      <td>34.0</td>\n",
       "      <td>NaN</td>\n",
       "    </tr>\n",
       "    <tr>\n",
       "      <th>1</th>\n",
       "      <td>NaN</td>\n",
       "      <td>Afghanistan</td>\n",
       "      <td>33.93911</td>\n",
       "      <td>67.709953</td>\n",
       "      <td>2021-06-11</td>\n",
       "      <td>3412</td>\n",
       "      <td>AFG</td>\n",
       "      <td>142.0</td>\n",
       "      <td>34.0</td>\n",
       "      <td>NaN</td>\n",
       "    </tr>\n",
       "    <tr>\n",
       "      <th>2</th>\n",
       "      <td>NaN</td>\n",
       "      <td>Afghanistan</td>\n",
       "      <td>33.93911</td>\n",
       "      <td>67.709953</td>\n",
       "      <td>2021-06-10</td>\n",
       "      <td>3356</td>\n",
       "      <td>AFG</td>\n",
       "      <td>142.0</td>\n",
       "      <td>34.0</td>\n",
       "      <td>NaN</td>\n",
       "    </tr>\n",
       "    <tr>\n",
       "      <th>3</th>\n",
       "      <td>NaN</td>\n",
       "      <td>Afghanistan</td>\n",
       "      <td>33.93911</td>\n",
       "      <td>67.709953</td>\n",
       "      <td>2021-06-09</td>\n",
       "      <td>3305</td>\n",
       "      <td>AFG</td>\n",
       "      <td>142.0</td>\n",
       "      <td>34.0</td>\n",
       "      <td>NaN</td>\n",
       "    </tr>\n",
       "    <tr>\n",
       "      <th>4</th>\n",
       "      <td>NaN</td>\n",
       "      <td>Afghanistan</td>\n",
       "      <td>33.93911</td>\n",
       "      <td>67.709953</td>\n",
       "      <td>2021-06-08</td>\n",
       "      <td>3251</td>\n",
       "      <td>AFG</td>\n",
       "      <td>142.0</td>\n",
       "      <td>34.0</td>\n",
       "      <td>NaN</td>\n",
       "    </tr>\n",
       "  </tbody>\n",
       "</table>\n",
       "</div>"
      ],
      "text/plain": [
       "  Province/State Country/Region       Lat       Long       Date  Value  \\\n",
       "0            NaN    Afghanistan  33.93911  67.709953 2021-06-12   3449   \n",
       "1            NaN    Afghanistan  33.93911  67.709953 2021-06-11   3412   \n",
       "2            NaN    Afghanistan  33.93911  67.709953 2021-06-10   3356   \n",
       "3            NaN    Afghanistan  33.93911  67.709953 2021-06-09   3305   \n",
       "4            NaN    Afghanistan  33.93911  67.709953 2021-06-08   3251   \n",
       "\n",
       "  ISO 3166-1 Alpha 3-Codes  Region Code  Sub-region Code  \\\n",
       "0                      AFG        142.0             34.0   \n",
       "1                      AFG        142.0             34.0   \n",
       "2                      AFG        142.0             34.0   \n",
       "3                      AFG        142.0             34.0   \n",
       "4                      AFG        142.0             34.0   \n",
       "\n",
       "   Intermediate Region Code  \n",
       "0                       NaN  \n",
       "1                       NaN  \n",
       "2                       NaN  \n",
       "3                       NaN  \n",
       "4                       NaN  "
      ]
     },
     "execution_count": 81,
     "metadata": {},
     "output_type": "execute_result"
    }
   ],
   "source": [
    "covid_data.head()"
   ]
  },
  {
   "cell_type": "code",
   "execution_count": 84,
   "metadata": {
    "colab": {
     "base_uri": "https://localhost:8080/",
     "height": 513
    },
    "colab_type": "code",
    "id": "PXnCSm_RIBVL",
    "outputId": "59919ab5-756f-48d8-ccf6-580ae996e9e6"
   },
   "outputs": [
    {
     "name": "stdout",
     "output_type": "stream",
     "text": [
      "<matplotlib.dates.MonthLocator object at 0x7ffd9db3bd60> <matplotlib.dates.YearLocator object at 0x7ffd9db3b2b0>\n"
     ]
    },
    {
     "data": {
      "image/png": "[encoded data removed]",
      "text/plain": [
       "<Figure size 432x288 with 1 Axes>"
      ]
     },
     "metadata": {
      "needs_background": "dark"
     },
     "output_type": "display_data"
    },
    {
     "data": {
      "image/png": "[encoded data removed]",
      "text/plain": [
       "<Figure size 432x288 with 1 Axes>"
      ]
     },
     "metadata": {
      "needs_background": "dark"
     },
     "output_type": "display_data"
    }
   ],
   "source": [
    "import matplotlib.dates as mdates\n",
    "# mdates.DateFormatter()\n",
    "years = mdates.YearLocator()   # every year\n",
    "months = mdates.MonthLocator()  # every month\n",
    "\n",
    "fig, ax = plt.subplots()\n",
    "ax.plot(date,covid_data.groupby(\"Date\").sum()[[\"Value\"]], label = \"Covid-19 fatilities around the world\")\n",
    "ax.plot(date,covid_data[covid_data[\"Country/Region\"] == \"Italy\"].groupby(\"Date\").sum()[[\"Value\"]],label=\"Covid-19 fatilities in Italy\")\n",
    "ax.legend(loc='best')\n",
    "# # format the ticks\n",
    "ax.xaxis.set_major_locator(months)\n",
    "\n",
    "# # round to nearest years.\n",
    "# datemin = np.datetime64(min(covid_data['Date']), 'M') \n",
    "# datemax = np.datetime64(max(covid_data['Date']), 'M') \n",
    "# ax.set_xlim(datemin, datemax)\n",
    "# plt.show()\n",
    "fig, ax = plt.subplots()\n",
    "ax.plot(date,covid_data[covid_data[\"Country/Region\"] == \"Italy\"].groupby(\"Date\").sum()[[\"Value\"]],label=\"Covid-19 fatilities in Italy\")\n",
    "ax.legend(loc='best')\n",
    "# # format the ticks\n",
    "ax.xaxis.set_major_locator(months)\n",
    "plt.show()\n"
   ]
  },
  {
   "cell_type": "code",
   "execution_count": 11,
   "metadata": {},
   "outputs": [
    {
     "data": {
      "text/plain": [
       "<matplotlib.axes._subplots.AxesSubplot at 0x7ffd9becca90>"
      ]
     },
     "execution_count": 11,
     "metadata": {},
     "output_type": "execute_result"
    },
    {
     "data": {
      "image/png": "[encoded data removed]",
      "text/plain": [
       "<Figure size 432x288 with 2 Axes>"
      ]
     },
     "metadata": {
      "needs_background": "dark"
     },
     "output_type": "display_data"
    }
   ],
   "source": [
    "import geopandas as gpd\n",
    "from shapely.geometry import Point\n",
    "from geopandas import GeoDataFrame\n",
    "#this is a simple map that goes with geopandas\n",
    "world = gpd.read_file(gpd.datasets.get_path('naturalearth_lowres'))\n",
    "world.plot(column='pop_est',legend = True)"
   ]
  },
  {
   "cell_type": "code",
   "execution_count": 54,
   "metadata": {
    "colab": {},
    "colab_type": "code",
    "id": "tcCHjGI4UbJ_"
   },
   "outputs": [],
   "source": [
    "covid_data = covid_data.rename(columns={\"Long\": \"lon\", \"Lat\": \"lat\",\"ISO 3166-1 Alpha 3-Codes\":\"iso_a3\", \"Country/Region\": \"location\"})\n",
    "# covid_data = covid_data[covid_data['Date'] == '2020-05-19']"
   ]
  },
  {
   "cell_type": "code",
   "execution_count": 55,
   "metadata": {
    "colab": {},
    "colab_type": "code",
    "id": "IV79VMktUIxz"
   },
   "outputs": [],
   "source": [
    "beds = pd.read_csv(\"https://raw.githubusercontent.com/hf2000510/infectious_disease_modelling/master/data/beds.csv\", header=0)\n",
    "agegroups = pd.read_csv(\"https://raw.githubusercontent.com/hf2000510/infectious_disease_modelling/master/data/agegroups.csv\")\n",
    "probabilities = pd.read_csv(\"https://raw.githubusercontent.com/hf2000510/infectious_disease_modelling/master/data/probabilities.csv\")"
   ]
  },
  {
   "cell_type": "code",
   "execution_count": 56,
   "metadata": {
    "colab": {},
    "colab_type": "code",
    "id": "6kuwy5EKWQT9"
   },
   "outputs": [],
   "source": [
    "beds.head()\n",
    "bed_map = dict(zip(beds['Country'],beds['ICU_Beds']))"
   ]
  },
  {
   "cell_type": "code",
   "execution_count": 57,
   "metadata": {},
   "outputs": [
    {
     "name": "stdout",
     "output_type": "stream",
     "text": [
      "{'Japan': 7.3, 'South Korea': 10.6, 'Russia': 8.3, 'Germany': 29.2, 'Austria': 21.8, 'Hungary': 13.8, 'Czech Republic': 11.6, 'Poland': 6.9, 'Lithuania': 15.5, 'France': 11.6, 'Slovakia': 9.2, 'Belgium': 15.9, 'Latvia': 9.7, 'Hong Kong': 7.1, 'Estonia': 14.6, 'Luxembourg': 24.8, 'Switzerland': 11.0, 'Slovenia': 6.4, 'China': 3.6, 'Greece': 6.0, 'Australia': 9.1, 'Norway': 8.0, 'Portugal': 4.2, 'Netherlands': 6.4, 'Finland': 6.1, 'Italy': 12.5, 'Iceland': 9.1, 'Israel': nan, 'Spain': 9.7, 'Ireland': 6.5, 'Turkey': 29.8, 'United States': 34.7, 'New Zealand': 3.67, 'Denmark': 6.7, 'United Kingdom': 6.6, 'Canada': 13.5, 'Sweden': 5.8, 'Chile': 6.0, 'Colombia': 0.9, 'India': 5.2, 'Mexico': 1.2, 'Africa': 0.1, 'Europe': 12.5, 'Asia': 6.1, 'North America': 14.6, 'South America': 3.0}\n"
     ]
    }
   ],
   "source": [
    "print(bed_map)"
   ]
  },
  {
   "cell_type": "code",
   "execution_count": 58,
   "metadata": {
    "colab": {},
    "colab_type": "code",
    "id": "7PVS3AcQWRvr"
   },
   "outputs": [],
   "source": [
    "agegroups.head()\n",
    "agegroups_map = dict(zip(agegroups['Location'],agegroups[agegroups.columns[2:12]].values))"
   ]
  },
  {
   "cell_type": "code",
   "execution_count": 59,
   "metadata": {},
   "outputs": [
    {
     "name": "stdout",
     "output_type": "stream",
     "text": [
      "{'World': array([1.342381e+09, 1.253463e+09, 1.192080e+09, 1.150350e+09,\n",
      "       9.731550e+08, 8.336220e+08, 5.917860e+08, 3.124590e+08,\n",
      "       1.241160e+08, 2.081400e+07]), 'Sustainable Development Goal (SDG) regions': array([nan, nan, nan, nan, nan, nan, nan, nan, nan, nan]), 'Sub-Saharan Africa': array([3.24399e+08, 2.53430e+08, 1.85189e+08, 1.33417e+08, 8.92920e+07,\n",
      "       5.64640e+07, 3.33850e+07, 1.51200e+07, 3.47700e+06, 1.91000e+05]), 'Eastern Africa': array([1.30038e+08, 1.05675e+08, 7.81560e+07, 5.41080e+07, 3.52710e+07,\n",
      "       2.17140e+07, 1.28490e+07, 5.97800e+06, 1.51300e+06, 1.02000e+05]), 'Burundi': array([3.873e+06, 2.725e+06, 2.030e+06, 1.539e+06, 7.480e+05, 4.920e+05,\n",
      "       3.390e+05, 1.120e+05, 3.000e+04, 2.000e+03]), 'Comoros': array([238000., 192000., 151000., 118000.,  77000.,  51000.,  30000.,\n",
      "        12000.,   3000.,      0.]), 'Djibouti': array([197000., 180000., 177000., 162000., 121000.,  78000.,  44000.,\n",
      "        22000.,   6000.,      0.]), 'Eritrea': array([972000., 861000., 572000., 460000., 281000., 172000., 128000.,\n",
      "        77000.,  21000.,   2000.]), 'Ethiopia': array([32037000., 26829000., 21439000., 13793000.,  9039000.,  5704000.,\n",
      "        3624000.,  1929000.,   524000.,    44000.]), 'Kenya': array([1.4014e+07, 1.2747e+07, 9.5950e+06, 7.4700e+06, 4.9030e+06,\n",
      "       2.8060e+06, 1.5190e+06, 5.7400e+05, 1.3800e+05, 6.0000e+03]), 'Madagascar': array([7763000., 6343000., 4899000., 3371000., 2388000., 1539000.,\n",
      "        915000.,  360000.,  103000.,    9000.]), 'Malawi': array([5.663e+06, 4.738e+06, 3.378e+06, 2.286e+06, 1.437e+06, 8.460e+05,\n",
      "       4.810e+05, 2.440e+05, 5.600e+04, 2.000e+03]), 'Mauritius': array([133000., 176000., 197000., 175000., 182000., 175000., 138000.,\n",
      "        70000.,  23000.,   4000.]), 'Mayotte': array([71000., 65000., 44000., 33000., 27000., 16000.,  9000.,  5000.,\n",
      "        2000.,     0.]), 'Mozambique': array([9.718e+06, 7.595e+06, 5.295e+06, 3.589e+06, 2.290e+06, 1.401e+06,\n",
      "       8.440e+05, 4.210e+05, 1.010e+05, 4.000e+03]), 'Réunion': array([133000., 139000., 118000.,  99000., 117000., 125000.,  91000.,\n",
      "        48000.,  21000.,   4000.]), 'Rwanda': array([3.561e+06, 2.906e+06, 2.211e+06, 1.813e+06, 1.070e+06, 7.280e+05,\n",
      "       4.450e+05, 1.740e+05, 4.200e+04, 2.000e+03]), 'Seychelles': array([16000., 13000., 13000., 14000., 14000., 13000.,  8000.,  4000.,\n",
      "        1000.,     0.]), 'Somalia': array([5.216e+06, 3.937e+06, 2.694e+06, 1.535e+06, 1.054e+06, 7.340e+05,\n",
      "       4.630e+05, 2.110e+05, 4.800e+04, 3.000e+03]), 'South Sudan': array([3.245e+06, 2.581e+06, 1.963e+06, 1.334e+06, 8.970e+05, 5.950e+05,\n",
      "       3.450e+05, 1.820e+05, 4.600e+04, 3.000e+03]), 'Uganda': array([1.4856e+07, 1.1449e+07, 7.8720e+06, 5.1020e+06, 3.1330e+06,\n",
      "       1.8530e+06, 9.7500e+05, 4.1200e+05, 8.6000e+04, 3.0000e+03]), 'Tanzania': array([1.8363e+07, 1.4089e+07, 9.8470e+06, 7.1620e+06, 4.8210e+06,\n",
      "       2.9270e+06, 1.6230e+06, 7.4100e+05, 1.5800e+05, 5.0000e+03]), 'Zambia': array([5.663e+06, 4.551e+06, 3.180e+06, 2.185e+06, 1.414e+06, 7.620e+05,\n",
      "       4.040e+05, 1.800e+05, 4.400e+04, 2.000e+03]), 'Zimbabwe': array([4.308e+06, 3.560e+06, 2.483e+06, 1.868e+06, 1.258e+06, 6.980e+05,\n",
      "       4.250e+05, 2.010e+05, 5.900e+04, 3.000e+03]), 'Middle Africa': array([5.7748e+07, 4.2362e+07, 2.9210e+07, 2.0439e+07, 1.3484e+07,\n",
      "       8.5250e+06, 4.9400e+06, 2.2990e+06, 5.5800e+05, 3.2000e+04]), 'Angola': array([1.0899e+07, 7.8820e+06, 5.3060e+06, 3.7000e+06, 2.4130e+06,\n",
      "       1.4640e+06, 7.8600e+05, 3.3200e+05, 8.0000e+04, 4.0000e+03]), 'Cameroon': array([7.846e+06, 6.176e+06, 4.552e+06, 3.400e+06, 2.142e+06, 1.288e+06,\n",
      "       7.330e+05, 3.330e+05, 7.300e+04, 2.000e+03]), 'Central African Republic': array([1.435e+06, 1.264e+06, 8.400e+05, 5.010e+05, 3.400e+05, 2.330e+05,\n",
      "       1.390e+05, 6.200e+04, 1.400e+04, 1.000e+03]), 'Chad': array([5.452e+06, 4.039e+06, 2.782e+06, 1.770e+06, 1.083e+06, 6.540e+05,\n",
      "       4.170e+05, 1.800e+05, 4.600e+04, 3.000e+03]), 'Congo': array([1592000., 1258000.,  874000.,  680000.,  536000.,  328000.,\n",
      "        164000.,   70000.,   15000.,       0.]), 'Democratic Republic of the Congo': array([2.9487e+07, 2.1001e+07, 1.4170e+07, 9.7620e+06, 6.6050e+06,\n",
      "       4.3470e+06, 2.5850e+06, 1.2690e+06, 3.1500e+05, 2.1000e+04]), 'Equatorial Guinea': array([372000., 265000., 286000., 249000., 116000.,  62000.,  35000.,\n",
      "        15000.,   4000.,      0.]), 'Gabon': array([600000., 422000., 367000., 350000., 232000., 134000.,  72000.,\n",
      "        37000.,  11000.,      0.]), 'Sao Tome and Principe': array([63000., 54000., 34000., 27000., 19000., 12000.,  7000.,  3000.,\n",
      "        1000.,     0.]), 'Southern Africa': array([13545000., 12114000., 11625000., 11366000.,  7857000.,  5401000.,\n",
      "        3489000.,  1636000.,   448000.,    23000.]), 'Botswana': array([539000., 473000., 403000., 365000., 261000., 146000., 104000.,\n",
      "        49000.,  11000.,   1000.]), 'Eswatini': array([287000., 277000., 213000., 162000., 104000.,  52000.,  37000.,\n",
      "        23000.,   7000.,      0.]), 'Lesotho': array([479000., 429000., 395000., 328000., 210000., 141000.,  97000.,\n",
      "        49000.,  15000.,   1000.]), 'Namibia': array([654000., 527000., 472000., 356000., 238000., 150000.,  87000.,\n",
      "        41000.,  13000.,   1000.]), 'South Africa': array([11586000., 10409000., 10141000., 10155000.,  7043000.,  4911000.,\n",
      "        3165000.,  1476000.,   402000.,    19000.]), 'Western Africa': array([1.2307e+08, 9.3280e+07, 6.6198e+07, 4.7505e+07, 3.2680e+07,\n",
      "       2.0823e+07, 1.2106e+07, 5.2070e+06, 9.5900e+05, 3.4000e+04]), 'Benin': array([3.597e+06, 2.779e+06, 2.062e+06, 1.436e+06, 9.820e+05, 6.500e+05,\n",
      "       3.800e+05, 1.850e+05, 4.800e+04, 3.000e+03]), 'Burkina Faso': array([6.552e+06, 5.030e+06, 3.508e+06, 2.428e+06, 1.587e+06, 9.780e+05,\n",
      "       5.390e+05, 2.340e+05, 4.600e+04, 2.000e+03]), 'Cabo Verde': array([105000., 100000.,  98000.,  99000.,  65000.,  48000.,  26000.,\n",
      "         9000.,   6000.,   1000.]), \"Cote d'Ivoire\": array([7.750e+06, 6.105e+06, 4.661e+06, 3.172e+06, 2.117e+06, 1.338e+06,\n",
      "       8.220e+05, 3.420e+05, 6.900e+04, 2.000e+03]), 'Gambia': array([763000., 557000., 429000., 283000., 174000., 116000.,  59000.,\n",
      "        30000.,   6000.,      0.]), 'Ghana': array([8.057e+06, 6.617e+06, 5.398e+06, 4.190e+06, 3.031e+06, 2.135e+06,\n",
      "       1.091e+06, 4.560e+05, 9.100e+04, 4.000e+03]), 'Guinea': array([3.966e+06, 3.200e+06, 2.366e+06, 1.470e+06, 8.980e+05, 6.150e+05,\n",
      "       4.080e+05, 1.710e+05, 3.700e+04, 1.000e+03]), 'Guinea-Bissau': array([582000., 450000., 342000., 255000., 157000.,  92000.,  60000.,\n",
      "        25000.,   5000.,      0.]), 'Liberia': array([1.418e+06, 1.175e+06, 8.410e+05, 6.300e+05, 4.440e+05, 2.840e+05,\n",
      "       1.680e+05, 7.600e+04, 2.000e+04, 1.000e+03]), 'Mali': array([6.761e+06, 5.009e+06, 3.204e+06, 2.160e+06, 1.486e+06, 8.490e+05,\n",
      "       5.010e+05, 2.310e+05, 4.800e+04, 2.000e+03]), 'Mauritania': array([1.308e+06, 1.007e+06, 7.880e+05, 6.190e+05, 4.230e+05, 2.670e+05,\n",
      "       1.510e+05, 6.800e+04, 1.800e+04, 1.000e+03]), 'Niger': array([8.758e+06, 5.901e+06, 3.717e+06, 2.259e+06, 1.529e+06, 1.047e+06,\n",
      "       6.450e+05, 2.960e+05, 5.300e+04, 2.000e+03]), 'Nigeria': array([6.3853e+07, 4.7703e+07, 3.3178e+07, 2.4369e+07, 1.7038e+07,\n",
      "       1.0700e+07, 6.2590e+06, 2.6240e+06, 4.0800e+05, 1.0000e+04]), 'Senegal': array([5.032e+06, 3.864e+06, 2.823e+06, 2.052e+06, 1.332e+06, 8.340e+05,\n",
      "       5.060e+05, 2.400e+05, 5.900e+04, 2.000e+03]), 'Sierra Leone': array([2.226e+06, 1.867e+06, 1.405e+06, 1.017e+06, 6.730e+05, 4.190e+05,\n",
      "       2.340e+05, 1.080e+05, 2.500e+04, 1.000e+03]), 'Togo': array([2.340e+06, 1.915e+06, 1.376e+06, 1.064e+06, 7.450e+05, 4.510e+05,\n",
      "       2.560e+05, 1.120e+05, 2.000e+04, 1.000e+03]), 'Northern Africa and Western Asia': array([1.1079e+08, 9.1967e+07, 8.6604e+07, 8.2828e+07, 6.3153e+07,\n",
      "       4.4104e+07, 2.7897e+07, 1.3279e+07, 4.7410e+06, 5.0000e+05]), 'Northern Africa': array([57003000., 44262000., 39521000., 36469000., 27281000., 19973000.,\n",
      "       13199000.,  6270000.,  2059000.,   193000.]), 'Algeria': array([9678000., 6731000., 6574000., 7276000., 5449000., 3800000.,\n",
      "       2530000., 1238000.,  515000.,   60000.]), 'Egypt': array([25028000., 18385000., 16512000., 15198000., 10949000.,  7845000.,\n",
      "        5122000.,  2531000.,   694000.,    69000.]), 'Libya': array([1285000., 1186000., 1095000., 1163000., 1050000.,  617000.,\n",
      "        284000.,  139000.,   48000.,    4000.]), 'Morocco': array([6753000., 6098000., 5883000., 5607000., 4452000., 3744000.,\n",
      "       2735000., 1197000.,  421000.,   21000.]), 'Sudan': array([12129000., 10124000.,  7627000.,  5203000.,  3727000.,  2553000.,\n",
      "        1536000.,   733000.,   199000.,    18000.]), 'Tunisia': array([2018000., 1640000., 1725000., 1914000., 1573000., 1361000.,\n",
      "        963000.,  424000.,  182000.,   19000.]), 'Western Sahara': array([112000.,  99000., 105000., 109000.,  83000.,  52000.,  29000.,\n",
      "         8000.,   1000.,      0.]), 'Western Asia': array([53788000., 47705000., 47083000., 46359000., 35872000., 24132000.,\n",
      "       14696000.,  7009000.,  2682000.,   307000.]), 'Armenia': array([419000., 368000., 408000., 504000., 353000., 362000., 328000.,\n",
      "       126000.,  81000.,  10000.]), 'Azerbaijan': array([1686000., 1335000., 1609000., 1766000., 1281000., 1281000.,\n",
      "        805000.,  243000.,  123000.,   10000.]), 'Bahrain': array([218000., 182000., 307000., 507000., 256000., 140000.,  66000.,\n",
      "        18000.,   5000.,   1000.]), 'Cyprus': array([133000., 142000., 191000., 188000., 166000., 148000., 120000.,\n",
      "        79000.,  34000.,   5000.]), 'Georgia': array([553000., 471000., 500000., 565000., 518000., 524000., 460000.,\n",
      "       248000., 133000.,  16000.]), 'Iraq': array([10610000.,  8711000.,  7166000.,  5403000.,  3937000.,  2341000.,\n",
      "        1293000.,   574000.,   175000.,    14000.]), 'Israel': array([1671000., 1405000., 1197000., 1123000., 1041000.,  796000.,\n",
      "        704000.,  460000.,  208000.,   52000.]), 'Jordan': array([2212000., 2180000., 1802000., 1490000., 1142000.,  755000.,\n",
      "        366000.,  191000.,   59000.,    4000.]), 'Kuwait': array([609000., 533000., 445000., 878000., 966000., 561000., 220000.,\n",
      "        48000.,  10000.,      0.]), 'Lebanon': array([1152000., 1135000., 1176000., 1010000.,  863000.,  724000.,\n",
      "        447000.,  211000.,   96000.,    9000.]), 'Oman': array([ 833000.,  531000., 1085000., 1440000.,  685000.,  316000.,\n",
      "        143000.,   53000.,   19000.,    3000.]), 'Qatar': array([270000., 228000., 717000., 846000., 462000., 255000.,  82000.,\n",
      "        17000.,   3000.,   1000.]), 'Saudi Arabia': array([5956000., 4860000., 5355000., 6980000., 6409000., 3217000.,\n",
      "       1374000.,  494000.,  151000.,   18000.]), 'State of Palestine': array([1.365e+06, 1.109e+06, 9.660e+05, 6.640e+05, 4.480e+05, 2.970e+05,\n",
      "       1.520e+05, 7.700e+04, 2.000e+04, 1.000e+03]), 'Syria': array([3636000., 3325000., 3100000., 2907000., 1929000., 1285000.,\n",
      "        822000.,  355000.,  127000.,   14000.]), 'Turkey': array([13419000., 13595000., 13174000., 12775000., 11447000.,  8908000.,\n",
      "        6192000.,  3353000.,  1330000.,   143000.]), 'United Arab Emirates': array([1.012e+06, 8.430e+05, 2.150e+06, 3.170e+06, 1.608e+06, 7.980e+05,\n",
      "       2.430e+05, 5.600e+04, 1.100e+04, 1.000e+03]), 'Yemen': array([8.033e+06, 6.751e+06, 5.733e+06, 4.140e+06, 2.363e+06, 1.423e+06,\n",
      "       8.790e+05, 4.030e+05, 9.300e+04, 7.000e+03]), 'Central and Southern Asia': array([3.67984e+08, 3.71655e+08, 3.50319e+08, 3.13060e+08, 2.40744e+08,\n",
      "       1.80279e+08, 1.17826e+08, 5.41100e+07, 1.69570e+07, 1.71800e+06]), 'Central Asia': array([16022000., 12080000., 12261000., 11934000.,  8484000.,  6926000.,\n",
      "        4465000.,  1457000.,   643000.,    68000.]), 'Kazakhstan': array([3868000., 2721000., 2573000., 2994000., 2287000., 2040000.,\n",
      "       1439000.,  553000.,  278000.,   26000.]), 'Kyrgyzstan': array([1529000., 1101000., 1083000., 1015000.,  686000.,  581000.,\n",
      "        364000.,  112000.,   49000.,    5000.]), 'Tajikistan': array([2578000., 1788000., 1649000., 1390000.,  883000.,  701000.,\n",
      "        388000.,  118000.,   40000.,    3000.]), 'Turkmenistan': array([1333000., 1009000., 1010000.,  958000.,  697000.,  536000.,\n",
      "        334000.,  104000.,   46000.,    6000.]), 'Uzbekistan': array([6714000., 5460000., 5947000., 5577000., 3930000., 3069000.,\n",
      "       1939000.,  572000.,  232000.,   28000.]), 'Southern Asia': array([3.51963e+08, 3.59575e+08, 3.38058e+08, 3.01127e+08, 2.32260e+08,\n",
      "       1.73353e+08, 1.13361e+08, 5.26540e+07, 1.63140e+07, 1.65000e+06]), 'Afghanistan': array([1.1089e+07, 9.8210e+06, 7.0350e+06, 4.5340e+06, 2.9640e+06,\n",
      "       1.8400e+06, 1.0580e+06, 4.8000e+05, 1.0000e+05, 6.0000e+03]), 'Bangladesh': array([28972000., 30674000., 29765000., 26512000., 20651000., 15006000.,\n",
      "        7296000.,  4096000.,  1504000.,   206000.]), 'Bhutan': array([126000., 136000., 153000., 139000.,  89000.,  59000.,  37000.,\n",
      "        22000.,   9000.,   1000.]), 'India': array([2.34862e+08, 2.52202e+08, 2.39902e+08, 2.15636e+08, 1.69660e+08,\n",
      "       1.28132e+08, 8.71510e+07, 3.91750e+07, 1.20200e+07, 1.21600e+06]), 'Iran': array([14566000., 11748000., 12343000., 16740000., 11655000.,  8295000.,\n",
      "        5397000.,  2355000.,   829000.,    65000.]), 'Maldives': array([ 73000.,  59000., 140000., 138000.,  65000.,  35000.,  19000.,\n",
      "         8000.,   4000.,      0.]), 'Nepal': array([5463000., 6120000., 5887000., 3792000., 3046000., 2307000.,\n",
      "       1488000.,  812000.,  207000.,   15000.]), 'Pakistan': array([53462000., 45428000., 39930000., 30816000., 21249000., 15123000.,\n",
      "        8902000.,  4559000.,  1327000.,    96000.]), 'Sri Lanka': array([3350000., 3387000., 2902000., 2820000., 2881000., 2555000.,\n",
      "       2013000., 1146000.,  314000.,   45000.]), 'Eastern and South-Eastern Asia': array([3.04984e+08, 2.99716e+08, 3.21250e+08, 3.60304e+08, 3.41143e+08,\n",
      "       3.28139e+08, 2.26660e+08, 1.14772e+08, 4.29300e+07, 6.60900e+06]), 'Eastern Asia': array([1.91955e+08, 1.89475e+08, 2.12513e+08, 2.59372e+08, 2.51952e+08,\n",
      "       2.56108e+08, 1.80515e+08, 9.46480e+07, 3.58090e+07, 5.57800e+06]), 'China': array([1.70667e+08, 1.66605e+08, 1.85147e+08, 2.28830e+08, 2.16112e+08,\n",
      "       2.22185e+08, 1.51664e+08, 7.14950e+07, 2.37630e+07, 2.78000e+06]), 'China, Hong Kong SAR': array([ 665000.,  553000.,  867000., 1122000., 1130000., 1208000.,\n",
      "       1049000.,  525000.,  298000.,   78000.]), 'China, Macao SAR': array([ 69000.,  46000.,  88000., 130000.,  93000., 100000.,  79000.,\n",
      "        30000.,  11000.,   3000.]), 'Taiwan*': array([2053000., 2189000., 3120000., 3549000., 3787000., 3660000.,\n",
      "       3101000., 1489000.,  710000.,  155000.]), \"Dem. People's Republic of Korea\": array([3430000., 3561000., 3926000., 3642000., 3714000., 3622000.,\n",
      "       2135000., 1304000.,  415000.,   29000.]), 'Japan': array([10179000., 11268000., 12147000., 14456000., 18473000., 16542000.,\n",
      "       15875000., 16185000.,  8969000.,  2304000.]), 'Mongolia': array([737000., 501000., 500000., 564000., 423000., 314000., 159000.,\n",
      "        60000.,  19000.,   2000.]), 'Korea, South': array([4154000., 4753000., 6716000., 7079000., 8219000., 8477000.,\n",
      "       6454000., 3561000., 1624000.,  228000.]), 'South-Eastern Asia': array([1.13029e+08, 1.10241e+08, 1.08737e+08, 1.00931e+08, 8.91910e+07,\n",
      "       7.20310e+07, 4.61450e+07, 2.01240e+07, 7.12200e+06, 1.03100e+06]), 'Brunei': array([67000., 65000., 69000., 76000., 68000., 50000., 28000.,  9000.,\n",
      "        3000.,     0.]), 'Cambodia': array([3531000., 3100000., 3117000., 2889000., 1429000., 1388000.,\n",
      "        817000.,  352000.,   89000.,    7000.]), 'Indonesia': array([47956000., 46303000., 43571000., 41166000., 37847000., 29155000.,\n",
      "       17531000.,  7575000.,  2225000.,   192000.]), 'Laos': array([1567000., 1467000., 1363000., 1087000.,  773000.,  527000.,\n",
      "        318000.,  137000.,   37000.,    2000.]), 'Malaysia': array([5143000., 5116000., 5770000., 5652000., 3991000., 3146000.,\n",
      "       2152000., 1025000.,  333000.,   38000.]), 'Myanmar': array([9022000., 9916000., 9163000., 8073000., 7220000., 5573000.,\n",
      "       3604000., 1423000.,  388000.,   28000.]), 'Philippines': array([22014000., 21370000., 19584000., 15502000., 12311000.,  9367000.,\n",
      "        5879000.,  2639000.,   822000.,    91000.]), 'Singapore': array([479000., 506000., 834000., 897000., 965000., 946000., 800000.,\n",
      "       289000., 113000.,  21000.]), 'Thailand': array([ 7440000.,  8493000.,  9630000.,  9230000., 10914000., 10681000.,\n",
      "        7625000.,  3866000.,  1635000.,   278000.]), 'Timor-Leste': array([332000., 307000., 245000., 159000., 101000.,  88000.,  50000.,\n",
      "        29000.,   7000.,      0.]), 'Vietnam': array([15478000., 13599000., 15389000., 16201000., 13573000., 11110000.,\n",
      "        7343000.,  2779000.,  1470000.,   373000.]), 'Latin America and the Caribbean': array([1.03887e+08, 1.05911e+08, 1.07350e+08, 9.94470e+07, 8.41270e+07,\n",
      "       6.83620e+07, 4.71150e+07, 2.53810e+07, 1.03340e+07, 1.97900e+06]), 'Caribbean': array([6919000., 6956000., 6688000., 6172000., 5249000., 5072000.,\n",
      "       3386000., 2043000.,  863000.,  176000.]), 'Antigua and Barbuda': array([14000., 14000., 15000., 14000., 14000., 13000.,  8000.,  5000.,\n",
      "        2000.,     0.]), 'Aruba': array([12000., 14000., 15000., 11000., 15000., 17000., 14000.,  7000.,\n",
      "        3000.,     0.]), 'Bahamas': array([54000., 64000., 66000., 55000., 57000., 50000., 30000., 14000.,\n",
      "        4000.,     0.]), 'Barbados': array([30000., 37000., 38000., 37000., 39000., 40000., 34000., 20000.,\n",
      "       10000.,  3000.]), 'Cuba': array([1199000., 1247000., 1421000., 1523000., 1562000., 1967000.,\n",
      "       1174000.,  804000.,  352000.,   74000.]), 'Curaçao': array([19000., 21000., 20000., 18000., 20000., 25000., 20000., 13000.,\n",
      "        6000.,  1000.]), 'Dominica': array([2000000., 1936000., 1855000., 1565000., 1274000., 1014000.,\n",
      "        683000.,  341000.,  148000.,   31000.]), 'Grenada': array([18000., 17000., 19000., 18000., 13000., 12000., 10000.,  5000.,\n",
      "        2000.,     0.]), 'Guadeloupe': array([45000., 59000., 47000., 33000., 50000., 62000., 51000., 33000.,\n",
      "       16000.,  4000.]), 'Haiti': array([2501000., 2346000., 2044000., 1732000., 1106000.,  790000.,\n",
      "        524000.,  260000.,   89000.,   10000.]), 'Jamaica': array([465000., 467000., 515000., 443000., 358000., 320000., 214000.,\n",
      "       120000.,  50000.,   8000.]), 'Martinique': array([36000., 47000., 41000., 34000., 44000., 62000., 52000., 34000.,\n",
      "       19000.,  4000.]), 'Puerto Rico': array([240000., 394000., 288000., 332000., 399000., 414000., 361000.,\n",
      "       274000., 125000.,  30000.]), 'Saint Lucia': array([22000., 24000., 33000., 28000., 26000., 23000., 14000.,  8000.,\n",
      "        3000.,  1000.]), 'Saint Vincent and the Grenadines': array([16000., 17000., 17000., 16000., 15000., 14000.,  9000.,  5000.,\n",
      "        2000.,     0.]), 'Trinidad and Tobago': array([184000., 185000., 183000., 243000., 191000., 175000., 136000.,\n",
      "        74000.,  23000.,   4000.]), 'United States Virgin Islands': array([13000., 14000., 12000., 10000., 12000., 14000., 14000., 11000.,\n",
      "        3000.,     0.]), 'Central America': array([32244000., 32216000., 31014000., 26325000., 22037000., 16634000.,\n",
      "       10883000.,  5572000.,  2267000.,   462000.]), 'Belize': array([78000., 78000., 75000., 60000., 44000., 31000., 17000.,  8000.,\n",
      "        3000.,  1000.]), 'Costa Rica': array([706000., 718000., 824000., 826000., 650000., 602000., 423000.,\n",
      "       231000.,  93000.,  19000.]), 'El Salvador': array([1147000., 1166000., 1216000.,  882000.,  726000.,  568000.,\n",
      "        406000.,  249000.,  113000.,   14000.]), 'Guatemala': array([4047000., 3872000., 3413000., 2532000., 1702000., 1054000.,\n",
      "        719000.,  382000.,  168000.,   26000.]), 'Honduras': array([2006000., 2065000., 1906000., 1471000., 1048000.,  680000.,\n",
      "        420000.,  206000.,   87000.,   17000.]), 'Mexico': array([22170000., 22351000., 21736000., 18880000., 16548000., 12758000.,\n",
      "        8264000.,  4189000.,  1669000.,   356000.]), 'Nicaragua': array([1317000., 1240000., 1166000., 1055000.,  763000.,  507000.,\n",
      "        348000.,  150000.,   65000.,   11000.]), 'Panama': array([773000., 726000., 678000., 618000., 556000., 433000., 283000.,\n",
      "       158000.,  70000.,  16000.]), 'South America': array([64724000., 66738000., 69647000., 66950000., 56840000., 46657000.,\n",
      "       32846000., 17766000.,  7205000.,  1343000.]), 'Argentina': array([7447000., 7136000., 6997000., 6441000., 5728000., 4425000.,\n",
      "       3529000., 2300000., 1000000.,  188000.]), 'Bolivia': array([2364000., 2298000., 2039000., 1639000., 1238000.,  884000.,\n",
      "        615000.,  392000.,  167000.,   35000.]), 'Brazil': array([29077000., 31160000., 34105000., 34477000., 29462000., 24421000.,\n",
      "       16897000.,  8801000.,  3492000.,   646000.]), 'Chile': array([2428000., 2494000., 2996000., 2946000., 2578000., 2353000.,\n",
      "       1791000.,  993000.,  436000.,   97000.]), 'Colombia': array([7414000., 8119000., 8847000., 7810000., 6451000., 5544000.,\n",
      "       3771000., 1980000.,  795000.,  147000.]), 'Ecuador': array([3278000., 3116000., 3037000., 2593000., 2088000., 1591000.,\n",
      "       1088000.,  570000.,  234000.,   46000.]), 'French Guiana': array([66000., 58000., 46000., 39000., 36000., 27000., 17000.,  7000.,\n",
      "        2000.,     0.]), 'Guyana': array([148000., 145000., 145000.,  93000.,  90000.,  80000.,  51000.,\n",
      "        23000.,   9000.,   2000.]), 'Paraguay': array([1384000., 1336000., 1321000., 1109000.,  728000.,  549000.,\n",
      "        402000.,  214000.,   78000.,   12000.]), 'Peru': array([5445000., 5135000., 5376000., 5231000., 4347000., 3314000.,\n",
      "       2276000., 1255000.,  520000.,   71000.]), 'Suriname': array([105000., 103000.,  96000.,  83000.,  73000.,  65000.,  37000.,\n",
      "        18000.,   7000.,   1000.]), 'Uruguay': array([473000., 479000., 511000., 462000., 455000., 391000., 328000.,\n",
      "       220000., 118000.,  34000.]), 'Venezuela': array([5094000., 5159000., 4131000., 4028000., 3565000., 3015000.,\n",
      "       2042000.,  990000.,  346000.,   64000.]), 'Australia/New Zealand': array([3924000., 3755000., 4047000., 4338000., 3898000., 3736000.,\n",
      "       3173000., 2208000., 1004000.,  233000.]), 'Australia': array([3309000., 3131000., 3376000., 3718000., 3306000., 3107000.,\n",
      "       2652000., 1846000.,  852000.,  199000.]), 'New Zealand': array([615000., 625000., 671000., 619000., 591000., 629000., 522000.,\n",
      "       362000., 152000.,  33000.]), 'Oceania (excluding Australia and New Zealand)': array([2886000., 2566000., 2098000., 1680000., 1324000.,  945000.,\n",
      "        571000.,  228000.,   53000.,    3000.]), 'Melanesia': array([2.646e+06, 2.335e+06, 1.902e+06, 1.520e+06, 1.184e+06, 8.170e+05,\n",
      "       4.860e+05, 1.910e+05, 4.100e+04, 2.000e+03]), 'Fiji': array([177000., 158000., 142000., 135000., 106000.,  91000.,  57000.,\n",
      "        23000.,   5000.,      0.]), 'New Caledonia': array([42000., 43000., 43000., 42000., 41000., 35000., 23000., 13000.,\n",
      "        4000.,     0.]), 'Papua New Guinea': array([2.150e+06, 1.918e+06, 1.554e+06, 1.221e+06, 9.390e+05, 6.290e+05,\n",
      "       3.720e+05, 1.370e+05, 2.600e+04, 1.000e+03]), 'Solomon Islands': array([196000., 149000., 112000.,  82000.,  69000.,  41000.,  23000.,\n",
      "        12000.,   3000.,      0.]), 'Vanuatu': array([81000., 67000., 51000., 41000., 29000., 21000., 12000.,  5000.,\n",
      "        1000.,     0.]), 'Micronesia': array([107000., 103000.,  92000.,  71000.,  60000.,  57000.,  38000.,\n",
      "        16000.,   5000.,      0.]), 'Guam': array([27000., 27000., 27000., 22000., 20000., 20000., 14000.,  8000.,\n",
      "        3000.,     0.]), 'Kiribati': array([29000., 23000., 21000., 17000., 11000., 10000.,  5000.,  2000.,\n",
      "           0.,     0.]), 'Micronesia (Fed. States of)': array([24000., 23000., 23000., 15000., 11000., 10000.,  7000.,  2000.,\n",
      "           0.,     0.]), 'Polynesia': array([133000., 128000., 105000.,  89000.,  81000.,  72000.,  46000.,\n",
      "        22000.,   7000.,   1000.]), 'French Polynesia': array([40000., 44000., 40000., 44000., 40000., 36000., 23000., 11000.,\n",
      "        3000.,     0.]), 'Samoa': array([51000., 42000., 32000., 22000., 20000., 17000., 10000.,  5000.,\n",
      "        1000.,     0.]), 'Tonga': array([24000., 23000., 17000., 12000., 10000.,  9000.,  5000.,  3000.,\n",
      "        1000.,     0.]), 'Europe and Northern America': array([1.23527e+08, 1.24464e+08, 1.35224e+08, 1.55275e+08, 1.49475e+08,\n",
      "       1.51592e+08, 1.35160e+08, 8.73600e+07, 4.46200e+07, 9.57900e+06]), 'Europe': array([7.98210e+07, 7.81440e+07, 8.40170e+07, 1.05313e+08, 1.04266e+08,\n",
      "       1.04269e+08, 9.19420e+07, 6.02490e+07, 3.29100e+07, 6.57900e+06]), 'Eastern Europe': array([33708000., 30035000., 32276000., 47113000., 42502000., 38011000.,\n",
      "       37732000., 19662000., 10329000.,  1630000.]), 'Belarus': array([1144000.,  929000., 1077000., 1530000., 1286000., 1346000.,\n",
      "       1243000.,  526000.,  320000.,   48000.]), 'Bulgaria': array([ 650000.,  686000.,  689000.,  958000., 1062000.,  945000.,\n",
      "        922000.,  711000.,  293000.,   33000.]), 'Czechia': array([1114000., 1062000., 1105000., 1478000., 1798000., 1351000.,\n",
      "       1325000., 1031000.,  379000.,   65000.]), 'Hungary': array([ 908000.,  969000., 1152000., 1257000., 1589000., 1201000.,\n",
      "       1306000.,  847000.,  372000.,   59000.]), 'Poland': array([3785000., 3710000., 4432000., 6005000., 5536000., 4563000.,\n",
      "       5174000., 2901000., 1442000.,  296000.]), 'Moldova': array([425000., 419000., 571000., 774000., 563000., 521000., 488000.,\n",
      "       185000.,  79000.,   9000.]), 'Romania': array([1905000., 2076000., 2086000., 2586000., 3026000., 2569000.,\n",
      "       2536000., 1530000.,  812000.,  111000.]), 'Russia': array([18623000., 15256000., 15608000., 24469000., 20376000., 18898000.,\n",
      "       18502000.,  8549000.,  4876000.,   770000.]), 'Slovakia': array([567000., 546000., 656000., 847000., 862000., 709000., 695000.,\n",
      "       399000., 157000.,  22000.]), 'Ukraine': array([4590000., 4384000., 4898000., 7209000., 6406000., 5907000.,\n",
      "       5540000., 2983000., 1599000.,  215000.]), 'Northern Europe': array([12425000., 12011000., 13314000., 14307000., 13634000., 14252000.,\n",
      "       11660000.,  9315000.,  4358000.,   958000.]), 'Channel Islands': array([18000., 17000., 21000., 24000., 25000., 26000., 20000., 14000.,\n",
      "        7000.,  1000.]), 'Denmark': array([606000., 676000., 776000., 672000., 738000., 810000., 655000.,\n",
      "       586000., 225000.,  46000.]), 'Estonia': array([143000., 137000., 146000., 194000., 185000., 165000., 170000.,\n",
      "       107000.,  67000.,  12000.]), 'Finland': array([569000., 606000., 672000., 706000., 659000., 721000., 713000.,\n",
      "       583000., 255000.,  54000.]), 'Iceland': array([43000., 44000., 48000., 47000., 43000., 42000., 37000., 23000.,\n",
      "       10000.,  2000.]), 'Ireland': array([672000., 669000., 568000., 696000., 764000., 601000., 481000.,\n",
      "       331000., 134000.,  23000.]), 'Latvia': array([208000., 189000., 189000., 263000., 254000., 264000., 250000.,\n",
      "       163000.,  84000.,  23000.]), 'Lithuania': array([301000., 243000., 317000., 337000., 356000., 421000., 353000.,\n",
      "       223000., 139000.,  32000.]), 'Norway': array([615000., 643000., 726000., 739000., 725000., 712000., 586000.,\n",
      "       447000., 184000.,  44000.]), 'Sweden': array([1194000., 1127000., 1277000., 1320000., 1264000., 1296000.,\n",
      "       1094000.,  994000.,  432000.,   98000.]), 'United Kingdom': array([8044000., 7642000., 8559000., 9295000., 8604000., 9174000.,\n",
      "       7287000., 5830000., 2815000.,  621000.]), 'Southern Europe': array([13391000., 15235000., 15946000., 18838000., 23442000., 22930000.,\n",
      "       18559000., 13956000.,  8150000.,  1736000.]), 'Albania': array([334000., 362000., 472000., 391000., 324000., 386000., 330000.,\n",
      "       195000.,  77000.,   8000.]), 'Bosnia and Herzegovina': array([295000., 346000., 403000., 458000., 448000., 500000., 464000.,\n",
      "       242000., 110000.,  13000.]), 'Croatia': array([386000., 408000., 472000., 540000., 557000., 581000., 565000.,\n",
      "       362000., 205000.,  29000.]), 'Greece': array([ 881000., 1069000., 1057000., 1337000., 1574000., 1505000.,\n",
      "       1258000.,  956000.,  655000.,  128000.]), 'Italy': array([4995000., 5733000., 6104000., 6999000., 9022000., 9567000.,\n",
      "       7485000., 6029000., 3699000.,  813000.]), 'Malta': array([43000., 41000., 55000., 65000., 59000., 53000., 58000., 45000.,\n",
      "       19000.,  4000.]), 'Montenegro': array([74000., 78000., 84000., 89000., 84000., 80000., 77000., 41000.,\n",
      "       19000.,  2000.]), 'North Macedonia': array([228000., 233000., 283000., 326000., 300000., 283000., 245000.,\n",
      "       134000.,  48000.,   3000.]), 'Portugal': array([ 841000., 1015000., 1074000., 1215000., 1575000., 1481000.,\n",
      "       1294000., 1018000.,  576000.,  104000.]), 'Serbia': array([ 856000., 1000000., 1102000., 1215000., 1230000., 1122000.,\n",
      "       1143000.,  730000.,  309000.,   31000.]), 'Slovenia': array([210000., 197000., 205000., 284000., 305000., 301000., 285000.,\n",
      "       178000.,  96000.,  17000.]), 'Spain': array([4234000., 4736000., 4618000., 5902000., 7939000., 7046000.,\n",
      "       5340000., 4015000., 2327000.,  583000.]), 'Western Europe': array([20297000., 20864000., 22481000., 25054000., 24688000., 29076000.,\n",
      "       23991000., 17318000., 10074000.,  2254000.]), 'Austria': array([ 874000.,  876000., 1116000., 1243000., 1179000., 1407000.,\n",
      "       1033000.,  790000.,  402000.,   84000.]), 'Belgium': array([1303000., 1312000., 1386000., 1504000., 1519000., 1598000.,\n",
      "       1370000.,  940000.,  538000.,  119000.]), 'France': array([7527000., 7884000., 7371000., 8012000., 8325000., 8635000.,\n",
      "       7765000., 5728000., 3142000.,  866000.]), 'Germany': array([ 7881000.,  7931000.,  9377000., 10872000., 10244000., 13488000.,\n",
      "       10644000.,  7472000.,  4894000.,   962000.]), 'Luxembourg': array([66000., 65000., 86000., 98000., 95000., 91000., 62000., 38000.,\n",
      "       20000.,  4000.]), 'Netherlands': array([1753000., 1954000., 2098000., 2097000., 2152000., 2524000.,\n",
      "       2130000., 1591000.,  700000.,  134000.]), 'Switzerland': array([ 885000.,  835000., 1040000., 1220000., 1167000., 1321000.,\n",
      "        978000.,  752000.,  374000.,   83000.]), 'Northern America': array([43706000., 46319000., 51207000., 49963000., 45210000., 47323000.,\n",
      "       43217000., 27110000., 11709000.,  3000000.]), 'Canada': array([3971000., 3971000., 5096000., 5278000., 4846000., 5182000.,\n",
      "       4713000., 3019000., 1334000.,  323000.]), 'US': array([39721000., 42332000., 46094000., 44668000., 40349000., 42120000.,\n",
      "       38488000., 24083000., 10372000.,  2678000.]), 'X': array([nan, nan, nan, nan, nan, nan, nan, nan, nan, nan]), 'Congo (Brazzaville)': array([1592000., 1258000.,  874000.,  680000.,  536000.,  328000.,\n",
      "        164000.,   70000.,   15000.,       0.]), 'Congo (Kinshasa)': array([1592000., 1258000.,  874000.,  680000.,  536000.,  328000.,\n",
      "        164000.,   70000.,   15000.,       0.]), 'Liechtenstein': array([66000., 65000., 86000., 98000., 95000., 91000., 62000., 38000.,\n",
      "       20000.,  4000.]), 'Monaco': array([66000., 65000., 86000., 98000., 95000., 91000., 62000., 38000.,\n",
      "       20000.,  4000.]), 'Saint Kitts and Nevis': array([22000., 24000., 33000., 28000., 26000., 23000., 14000.,  8000.,\n",
      "        3000.,  1000.]), 'San Marino': array([66000., 65000., 86000., 98000., 95000., 91000., 62000., 38000.,\n",
      "       20000.,  4000.]), 'Diamond Princess': array([  16.,   23.,  347.,  428.,  334.,  398.,  923., 1015.,  216.,\n",
      "          0.])}\n"
     ]
    }
   ],
   "source": [
    "print(agegroups_map)"
   ]
  },
  {
   "cell_type": "code",
   "execution_count": 60,
   "metadata": {},
   "outputs": [
    {
     "name": "stdout",
     "output_type": "stream",
     "text": [
      "     Unnamed: 0                                    Location           0_9  \\\n",
      "0             0                                       World  1.342381e+09   \n",
      "1             1  Sustainable Development Goal (SDG) regions           NaN   \n",
      "2             2                          Sub-Saharan Africa  3.243990e+08   \n",
      "3             3                              Eastern Africa  1.300380e+08   \n",
      "4             4                                     Burundi  3.873000e+06   \n",
      "..          ...                                         ...           ...   \n",
      "236         236                               Liechtenstein  6.600000e+04   \n",
      "237         237                                      Monaco  6.600000e+04   \n",
      "238         238                       Saint Kitts and Nevis  2.200000e+04   \n",
      "239         239                                  San Marino  6.600000e+04   \n",
      "240         240                            Diamond Princess  1.600000e+01   \n",
      "\n",
      "            10_19         20_29         30_39        40_49        50_59  \\\n",
      "0    1.253463e+09  1.192080e+09  1.150350e+09  973155000.0  833622000.0   \n",
      "1             NaN           NaN           NaN          NaN          NaN   \n",
      "2    2.534300e+08  1.851890e+08  1.334170e+08   89292000.0   56464000.0   \n",
      "3    1.056750e+08  7.815600e+07  5.410800e+07   35271000.0   21714000.0   \n",
      "4    2.725000e+06  2.030000e+06  1.539000e+06     748000.0     492000.0   \n",
      "..            ...           ...           ...          ...          ...   \n",
      "236  6.500000e+04  8.600000e+04  9.800000e+04      95000.0      91000.0   \n",
      "237  6.500000e+04  8.600000e+04  9.800000e+04      95000.0      91000.0   \n",
      "238  2.400000e+04  3.300000e+04  2.800000e+04      26000.0      23000.0   \n",
      "239  6.500000e+04  8.600000e+04  9.800000e+04      95000.0      91000.0   \n",
      "240  2.300000e+01  3.470000e+02  4.280000e+02        334.0        398.0   \n",
      "\n",
      "           60_69        70_79        80_89      90_100         Total  \n",
      "0    591786000.0  312459000.0  124116000.0  20814000.0  7.794226e+09  \n",
      "1            NaN          NaN          NaN         NaN  0.000000e+00  \n",
      "2     33385000.0   15120000.0    3477000.0    191000.0  1.094364e+09  \n",
      "3     12849000.0    5978000.0    1513000.0    102000.0  4.454040e+08  \n",
      "4       339000.0     112000.0      30000.0      2000.0  1.189000e+07  \n",
      "..           ...          ...          ...         ...           ...  \n",
      "236      62000.0      38000.0      20000.0      4000.0  6.250000e+05  \n",
      "237      62000.0      38000.0      20000.0      4000.0  6.250000e+05  \n",
      "238      14000.0       8000.0       3000.0      1000.0  1.820000e+05  \n",
      "239      62000.0      38000.0      20000.0      4000.0  6.250000e+05  \n",
      "240        923.0       1015.0        216.0         0.0  3.700000e+03  \n",
      "\n",
      "[241 rows x 13 columns]\n"
     ]
    }
   ],
   "source": [
    "print(agegroups)"
   ]
  },
  {
   "cell_type": "code",
   "execution_count": 61,
   "metadata": {
    "colab": {
     "base_uri": "https://localhost:8080/",
     "height": 204
    },
    "colab_type": "code",
    "id": "ocUSRYCaX3yi",
    "outputId": "bd93f22f-f0bf-4bf7-ebcd-a1a460f36a60"
   },
   "outputs": [
    {
     "data": {
      "text/html": [
       "<div>\n",
       "<style scoped>\n",
       "    .dataframe tbody tr th:only-of-type {\n",
       "        vertical-align: middle;\n",
       "    }\n",
       "\n",
       "    .dataframe tbody tr th {\n",
       "        vertical-align: top;\n",
       "    }\n",
       "\n",
       "    .dataframe thead th {\n",
       "        text-align: right;\n",
       "    }\n",
       "</style>\n",
       "<table border=\"1\" class=\"dataframe\">\n",
       "  <thead>\n",
       "    <tr style=\"text-align: right;\">\n",
       "      <th></th>\n",
       "      <th>Age</th>\n",
       "      <th>prob_I_to_ICU_1</th>\n",
       "      <th>prob_ICU_to_Death_1</th>\n",
       "      <th>prob_I_to_ICU_2</th>\n",
       "      <th>prob_ICU_to_Death_2</th>\n",
       "    </tr>\n",
       "  </thead>\n",
       "  <tbody>\n",
       "    <tr>\n",
       "      <th>0</th>\n",
       "      <td>0_9</td>\n",
       "      <td>0.001</td>\n",
       "      <td>0.00</td>\n",
       "      <td>0.001</td>\n",
       "      <td>0.00</td>\n",
       "    </tr>\n",
       "    <tr>\n",
       "      <th>1</th>\n",
       "      <td>10_19</td>\n",
       "      <td>0.003</td>\n",
       "      <td>0.00</td>\n",
       "      <td>0.003</td>\n",
       "      <td>0.00</td>\n",
       "    </tr>\n",
       "    <tr>\n",
       "      <th>2</th>\n",
       "      <td>20_29</td>\n",
       "      <td>0.009</td>\n",
       "      <td>0.05</td>\n",
       "      <td>0.006</td>\n",
       "      <td>0.00</td>\n",
       "    </tr>\n",
       "    <tr>\n",
       "      <th>3</th>\n",
       "      <td>30_39</td>\n",
       "      <td>0.025</td>\n",
       "      <td>0.06</td>\n",
       "      <td>0.009</td>\n",
       "      <td>0.00</td>\n",
       "    </tr>\n",
       "    <tr>\n",
       "      <th>4</th>\n",
       "      <td>40_49</td>\n",
       "      <td>0.030</td>\n",
       "      <td>0.10</td>\n",
       "      <td>0.025</td>\n",
       "      <td>0.12</td>\n",
       "    </tr>\n",
       "  </tbody>\n",
       "</table>\n",
       "</div>"
      ],
      "text/plain": [
       "     Age  prob_I_to_ICU_1  prob_ICU_to_Death_1  prob_I_to_ICU_2  \\\n",
       "0    0_9            0.001                 0.00            0.001   \n",
       "1  10_19            0.003                 0.00            0.003   \n",
       "2  20_29            0.009                 0.05            0.006   \n",
       "3  30_39            0.025                 0.06            0.009   \n",
       "4  40_49            0.030                 0.10            0.025   \n",
       "\n",
       "   prob_ICU_to_Death_2  \n",
       "0                 0.00  \n",
       "1                 0.00  \n",
       "2                 0.00  \n",
       "3                 0.00  \n",
       "4                 0.12  "
      ]
     },
     "execution_count": 61,
     "metadata": {},
     "output_type": "execute_result"
    }
   ],
   "source": [
    "probabilities.head()"
   ]
  },
  {
   "cell_type": "code",
   "execution_count": 62,
   "metadata": {
    "colab": {},
    "colab_type": "code",
    "id": "iLSik6nrWUiw"
   },
   "outputs": [],
   "source": [
    "#  store the probabilities collected\n",
    "prob_I_to_C_1 = list(probabilities.prob_I_to_ICU_1.values)\n",
    "prob_I_to_C_2 = list(probabilities.prob_I_to_ICU_2.values)\n",
    "prob_C_to_Death_1 = list(probabilities.prob_ICU_to_Death_1.values)\n",
    "prob_C_to_Death_2 = list(probabilities.prob_ICU_to_Death_2.values)"
   ]
  },
  {
   "cell_type": "markdown",
   "metadata": {
    "colab_type": "text",
    "id": "oKHu8n94Y8mI"
   },
   "source": [
    "##SEIR MODEL\n"
   ]
  },
  {
   "cell_type": "markdown",
   "metadata": {
    "colab_type": "text",
    "id": "Y00QAlQWjgnF"
   },
   "source": [
    "![SEIR MODEL](https://miro.medium.com/max/1400/1*05TbKHvwOerGixyTFTzNwA.png)"
   ]
  },
  {
   "cell_type": "code",
   "execution_count": 63,
   "metadata": {
    "colab": {},
    "colab_type": "code",
    "id": "qp5l751NYHvL"
   },
   "outputs": [],
   "source": [
    "def deriv(y, t, beta, gamma, delta, N, p_I_to_C, p_C_to_D, Beds):\n",
    "    S, E, I, C, R, D = y\n",
    "\n",
    "    dSdt = -beta(t) * I * S / N\n",
    "    dEdt = beta(t) * I * S / N - delta * E\n",
    "    dIdt = delta * E - 1/12.0 * p_I_to_C * I - gamma * (1 - p_I_to_C) * I\n",
    "    dCdt = 1/12.0 * p_I_to_C * I - 1/7.5 * p_C_to_D * min(Beds(t), C) - max(0, C-Beds(t)) - (1 - p_C_to_D) * 1/6.5 * min(Beds(t), C)\n",
    "    dRdt = gamma * (1 - p_I_to_C) * I + (1 - p_C_to_D) * 1/6.5 * min(Beds(t), C)\n",
    "    dDdt = 1/7.5 * p_C_to_D * min(Beds(t), C) + max(0, C-Beds(t))\n",
    "    return dSdt, dEdt, dIdt, dCdt, dRdt, dDdt\n"
   ]
  },
  {
   "cell_type": "code",
   "execution_count": 64,
   "metadata": {
    "colab": {},
    "colab_type": "code",
    "id": "tgWQ64Rj5cBR"
   },
   "outputs": [],
   "source": [
    "# omega = 0.04\n",
    "# beta = 0.1\n",
    "# gamma = 0.2"
   ]
  },
  {
   "cell_type": "code",
   "execution_count": 65,
   "metadata": {
    "colab": {},
    "colab_type": "code",
    "id": "20mDH-emYYwL"
   },
   "outputs": [],
   "source": [
    "gamma = 1.0/14.0\n",
    "delta = 1.0/9.0\n",
    "\n",
    "def logistic_R_0(x, R_0_start, k, x0, R_0_end):\n",
    "    return (R_0_start-R_0_end) / (1 + np.exp(-k*(-x+x0))) + R_0_end\n",
    "\n",
    "def Model(days, agegroups, beds_per_100k, R_0_start, k, x0, R_0_end, prob_I_to_C, prob_C_to_D, s):\n",
    "\n",
    "    def beta(x):\n",
    "        return logistic_R_0(x, R_0_start, k, x0, R_0_end) * gamma\n",
    "\n",
    "    N = sum(agegroups)\n",
    "    \n",
    "    def Beds(t):\n",
    "        beds_0 = beds_per_100k / 100_000 * N\n",
    "        return beds_0 + s*beds_0*t  # 0.003\n",
    "\n",
    "    y0 = N-1.0, 1.0, 0.0, 0.0, 0.0, 0.0\n",
    "    t = np.linspace(0, days-1, days)\n",
    "    ret = odeint(deriv, y0, t, args=(beta, gamma, delta, N, prob_I_to_C, prob_C_to_D, Beds))\n",
    "    S, E, I, C, R, D = ret.T\n",
    "    R_0_over_time = [beta(i)/gamma for i in range(len(t))]\n",
    "\n",
    "    return t, S, E, I, C, R, D, R_0_over_time, Beds, prob_I_to_C, prob_C_to_D"
   ]
  },
  {
   "cell_type": "markdown",
   "metadata": {
    "colab_type": "text",
    "id": "wDKL_evSZDUM"
   },
   "source": [
    "## Curve Fitting"
   ]
  },
  {
   "cell_type": "code",
   "execution_count": 66,
   "metadata": {
    "colab": {},
    "colab_type": "code",
    "id": "QJ0XbZejZE9G"
   },
   "outputs": [],
   "source": [
    "data = covid_data[covid_data[\"location\"] == \"India\"][\"Value\"].values[::-1]\n",
    "agegroups = agegroups_map[\"India\"]\n",
    "beds_per_100k = bed_map[\"India\"]\n",
    "outbreak_shift = 30\n",
    "params_init_min_max = {\"R_0_start\": (2.7, 1.0, 3.0), \"k\": (2.5, 0.01, 5.0), \"x0\": (90, 0, 100), \"R_0_end\": (0.9, 0.3, 2),\n",
    "                       \"prob_I_to_C\": (0.05, 0.01, 0.1), \"prob_C_to_D\": (0.5, 0.05, 0.8),\n",
    "                       \"s\": (0.003, 0.001, 0.01)}  # form: {parameter: (initial guess, minimum value, max value)}"
   ]
  },
  {
   "cell_type": "code",
   "execution_count": 67,
   "metadata": {
    "colab": {},
    "colab_type": "code",
    "id": "zOI-gNoUwVyW"
   },
   "outputs": [],
   "source": [
    "d = covid_data[covid_data[\"location\"] == \"India\"][\"Value\"].values[::-1]"
   ]
  },
  {
   "cell_type": "code",
   "execution_count": 68,
   "metadata": {},
   "outputs": [
    {
     "name": "stdout",
     "output_type": "stream",
     "text": [
      "[     0      0      0      0      0      0      0      0      0      0\n",
      "      0      0      0      0      0      0      0      0      0      0\n",
      "      0      0      0      0      0      0      0      0      0      0\n",
      "      0      0      0      0      0      0      0      0      0      0\n",
      "      0      0      0      0      0      0      0      0      0      1\n",
      "      1      2      2      2      2      3      3      4      5      4\n",
      "      7     10     10     12     20     20     24     27     32     35\n",
      "     58     72     72     86     99    136    150    178    226    246\n",
      "    288    331    358    393    405    448    486    521    559    592\n",
      "    645    681    721    780    825    881    939   1008   1079   1154\n",
      "   1223   1323   1391   1566   1693   1785   1889   1985   2101   2212\n",
      "   2294   2415   2551   2649   2753   2871   3025   3156   3302   3434\n",
      "   3584   3726   3868   4024   4172   4344   4534   4711   4980   5185\n",
      "   5408   5608   5829   6088   6363   6649   6946   7207   7473   7750\n",
      "   8102   8498   8884   9195   9520   9900  11903  12237  12573  12948\n",
      "  13254  13699  14011  14476  14894  15301  15685  16095  16475  16893\n",
      "  17400  17834  18213  18655  19268  19693  20159  20642  21129  21604\n",
      "  22123  22673  23174  23727  24309  24914  25602  26273  26816  27497\n",
      "  28082  28732  29861  30601  31358  32060  32771  33408  34193  34955\n",
      "  35718  36511  37364  38135  38938  39795  40699  41585  42518  43379\n",
      "  44386  45257  46091  47033  48040  49036  49980  50921  51797  52888\n",
      "  53866  54849  55794  56706  57542  58390  59357  60472  61529  62550\n",
      "  63498  64469  65288  66333  67376  68472  69561  70626  71642  72775\n",
      "  73890  75062  76271  77472  78586  79722  80776  82066  83198  84372\n",
      "  85619  86752  87882  88935  90020  91149  92290  93379  94503  95542\n",
      "  96318  97497  98678  99773 100842 101782 102685 103569 104555 105526\n",
      " 106490 107416 108334 109150 109856 110586 111266 112161 112998 114031\n",
      " 114610 115197 115914 116616 117306 117956 118534 119014 119502 120010\n",
      " 120527 121090 121641 122111 122607 123097 123611 124315 124985 125562\n",
      " 126121 126611 127059 127571 128121 128668 129188 129635 130070 130519\n",
      " 130993 131578 132162 132726 133227 133738 134218 134699 135223 135715\n",
      " 136200 136696 137139 137621 138122 138648 139188 139700 140182 140573\n",
      " 140958 141360 141772 142185 142628 143019 143355 143709 144096 144451\n",
      " 144789 145136 145477 145810 146111 146444 146756 147092 147343 147622\n",
      " 147901 148153 148439 148738 148738 148994 149435 149649 149850 150114\n",
      " 150336 150570 150570 150999 151160 151327 151529 151727 151918 152093\n",
      " 152274 152419 152556 152718 152869 153032 153184 153339 153470 153587\n",
      " 153724 153847 154010 154147 154274 154392 154486 154596 154703 154823\n",
      " 154918 154996 155080 155158 155252 155360 155447 155550 155642 155732\n",
      " 155813 155913 156014 156111 156212 156302 156385 156463 156567 156705\n",
      " 156825 156938 157051 157157 157248 157346 157435 157548 157656 157756\n",
      " 157853 157930 158063 158189 158306 158446 158607 158725 158856 159044\n",
      " 159216 159370 159558 159755 159967 160166 160441 160692 160949 161240\n",
      " 161552 161843 162114 162468 162927 163396 164110 164623 165101 165547\n",
      " 166177 166862 167642 168436 169275 170179 171058 172085 173123 174308\n",
      " 175649 177150 178769 180530 182553 184657 186920 189544 192311 195123\n",
      " 197894 201187 204832 208330 211853 215542 218959 222408 226188 230168\n",
      " 234083 238270 242347 246116 249992 254197 258317 262317 266207 270284\n",
      " 274390 278719 283248 287122 291331 295525 299266 303720 307231 311388\n",
      " 315235 318895 322512 325972 329100 331895 335102 337989 340702 344082\n",
      " 346759 349186 351309 353528 355705 363079 367081]\n"
     ]
    }
   ],
   "source": [
    "print(d)"
   ]
  },
  {
   "cell_type": "code",
   "execution_count": 69,
   "metadata": {
    "colab": {
     "base_uri": "https://localhost:8080/",
     "height": 34
    },
    "colab_type": "code",
    "id": "naRLrp0WyrMe",
    "outputId": "2abddd1b-8c08-4a0e-a801-ff82e4615e00"
   },
   "outputs": [
    {
     "data": {
      "text/plain": [
       "35"
      ]
     },
     "execution_count": 69,
     "metadata": {},
     "output_type": "execute_result"
    }
   ],
   "source": [
    "d[99-30]"
   ]
  },
  {
   "cell_type": "code",
   "execution_count": 70,
   "metadata": {
    "colab": {
     "base_uri": "https://localhost:8080/",
     "height": 419
    },
    "colab_type": "code",
    "id": "EkJ8ordXzgUs",
    "outputId": "961d0194-180c-4d71-d931-b20bd263be85"
   },
   "outputs": [],
   "source": [
    "#covid_data[covid_data[\"location\"] == \"Italy\"]"
   ]
  },
  {
   "cell_type": "code",
   "execution_count": 71,
   "metadata": {
    "colab": {},
    "colab_type": "code",
    "id": "kSnuo59hZK4c"
   },
   "outputs": [],
   "source": [
    "days = outbreak_shift + len(data)\n",
    "if outbreak_shift >= 0:\n",
    "    y_data = np.concatenate((np.zeros(outbreak_shift), data))\n",
    "else:\n",
    "    y_data = y_data[-outbreak_shift:]\n",
    "\n",
    "x_data = np.linspace(0, days - 1, days, dtype=int)  # x_data is just [0, 1, ..., max_days] array\n",
    "\n",
    "def fitter(x, R_0_start, k, x0, R_0_end, prob_I_to_C, prob_C_to_D, s):\n",
    "    ret = Model(days, agegroups, beds_per_100k, R_0_start, k, x0, R_0_end, prob_I_to_C, prob_C_to_D, s)\n",
    "    return ret[6][x]"
   ]
  },
  {
   "cell_type": "code",
   "execution_count": 72,
   "metadata": {
    "colab": {},
    "colab_type": "code",
    "id": "oA_Fpi8xaIym"
   },
   "outputs": [],
   "source": [
    "mod = lmfit.Model(fitter)\n",
    "\n",
    "for kwarg, (init, mini, maxi) in params_init_min_max.items():\n",
    "    mod.set_param_hint(str(kwarg), value=init, min=mini, max=maxi, vary=True)\n",
    "\n",
    "params = mod.make_params()\n",
    "fit_method = \"leastsq\""
   ]
  },
  {
   "cell_type": "code",
   "execution_count": 73,
   "metadata": {
    "colab": {
     "base_uri": "https://localhost:8080/",
     "height": 909
    },
    "colab_type": "code",
    "id": "TyAEcaU9aMst",
    "outputId": "dea391d8-7e19-4cda-c4ed-78662ea1b1d7"
   },
   "outputs": [
    {
     "data": {
      "text/plain": [
       "{'R_0_start': 2.9999999093752625,\n",
       " 'k': 0.010000080858095063,\n",
       " 'x0': 99.99999736568564,\n",
       " 'R_0_end': 1.376235078053458,\n",
       " 'prob_I_to_C': 0.0999999989372268,\n",
       " 'prob_C_to_D': 0.7999999784841203,\n",
       " 's': 0.00344274864737692}"
      ]
     },
     "execution_count": 73,
     "metadata": {},
     "output_type": "execute_result"
    },
    {
     "data": {
      "image/png": "[encoded data removed]",
      "text/plain": [
       "<Figure size 1200x800 with 1 Axes>"
      ]
     },
     "metadata": {
      "needs_background": "dark"
     },
     "output_type": "display_data"
    }
   ],
   "source": [
    "result = mod.fit(y_data, params, method=\"least_squares\", x=x_data)\n",
    "fig = plt.figure(dpi = 200)\n",
    "ax = fig.gca()\n",
    "# plt.figsize()\n",
    "result.plot_fit( ax = ax,datafmt=\"-\",xlabel='No of Days', ylabel='Deaths')\n",
    "result.best_values"
   ]
  },
  {
   "cell_type": "code",
   "execution_count": 75,
   "metadata": {
    "colab": {},
    "colab_type": "code",
    "id": "vH-1QCdYbEwt"
   },
   "outputs": [],
   "source": [
    "t, S, E, I, C, R, D, R_0_over_time, Beds, prob_I_to_C, prob_C_to_D = Model(days, agegroups_map[\"Italy\"], bed_map[\"Italy\"], **result.best_values)"
   ]
  },
  {
   "cell_type": "code",
   "execution_count": null,
   "metadata": {
    "colab": {
     "base_uri": "https://localhost:8080/",
     "height": 34
    },
    "colab_type": "code",
    "id": "rWZSAVrwfMsu",
    "outputId": "21902c22-c76c-4f8d-bb1e-67b580177366"
   },
   "outputs": [],
   "source": [
    "plt.gcf().subplots_adjust(bottom=0.15)\n",
    "\n",
    "def plotter(t, S, E, I, C, R, D, R_0, B, S_1=None, S_2=None, x_ticks=None):\n",
    "    if S_1 is not None and S_2 is not None:\n",
    "      print(f\"percentage going to ICU: {S_1*100}; percentage dying in ICU: {S_2 * 100}\")\n",
    "\n",
    "\n",
    "    f, ax = plt.subplots(1,1,figsize=(20,4))\n",
    "    if x_ticks is None:\n",
    "        ax.plot(t, S, 'b', alpha=0.7, linewidth=2, label='Susceptible')\n",
    "        ax.plot(t, E, 'y', alpha=0.7, linewidth=2, label='Exposed')\n",
    "        ax.plot(t, I, 'r', alpha=0.7, linewidth=2, label='Infected')\n",
    "        ax.plot(t, C, 'r--', alpha=0.7, linewidth=2, label='Critical')\n",
    "        ax.plot(t, R, 'g', alpha=0.7, linewidth=2, label='Recovered')\n",
    "        ax.plot(t, D, 'k', alpha=0.7, linewidth=2, label='Dead')\n",
    "    else:\n",
    "        ax.plot(x_ticks, S, 'b', alpha=0.7, linewidth=2, label='Susceptible')\n",
    "        ax.plot(x_ticks, E, 'y', alpha=0.7, linewidth=2, label='Exposed')\n",
    "        ax.plot(x_ticks, I, 'r', alpha=0.7, linewidth=2, label='Infected')\n",
    "        ax.plot(x_ticks, C, 'r--', alpha=0.7, linewidth=2, label='Critical')\n",
    "        ax.plot(x_ticks, R, 'g', alpha=0.7, linewidth=2, label='Recovered')\n",
    "        ax.plot(x_ticks, D, 'k', alpha=0.7, linewidth=2, label='Dead')\n",
    "\n",
    "        ax.xaxis.set_major_locator(mdates.YearLocator())\n",
    "        ax.xaxis.set_major_formatter(mdates.DateFormatter('%Y-%m-%d'))\n",
    "        ax.xaxis.set_minor_locator(mdates.MonthLocator())\n",
    "        f.autofmt_xdate()\n",
    "\n",
    "\n",
    "    ax.title.set_text('extended SEIR-Model')\n",
    "\n",
    "    ax.grid(b=True, which='major', c='w', lw=2, ls='-')\n",
    "    legend = ax.legend()\n",
    "    legend.get_frame().set_alpha(0.5)\n",
    "    for spine in ('top', 'right', 'bottom', 'left'):\n",
    "        ax.spines[spine].set_visible(False)\n",
    "\n",
    "    plt.show();\n",
    "    \n",
    "    f = plt.figure(figsize=(20,4))\n",
    "    # sp1\n",
    "    ax1 = f.add_subplot(131)\n",
    "    if x_ticks is None:\n",
    "        ax1.plot(t, R_0, 'b--', alpha=0.7, linewidth=2, label='R_0')\n",
    "    else:\n",
    "        ax1.plot(x_ticks, R_0, 'b--', alpha=0.7, linewidth=2, label='R_0')\n",
    "        ax1.xaxis.set_major_locator(mdates.YearLocator())\n",
    "        ax1.xaxis.set_major_formatter(mdates.DateFormatter('%Y-%m-%d'))\n",
    "        ax1.xaxis.set_minor_locator(mdates.MonthLocator())\n",
    "        f.autofmt_xdate()\n",
    "\n",
    " \n",
    "    ax1.title.set_text('R_0 over time')\n",
    "    ax1.grid(b=True, which='major', c='w', lw=2, ls='-')\n",
    "    legend = ax1.legend()\n",
    "    legend.get_frame().set_alpha(0.5)\n",
    "    for spine in ('top', 'right', 'bottom', 'left'):\n",
    "        ax.spines[spine].set_visible(False)\n",
    "    \n",
    "    # sp2\n",
    "    ax2 = f.add_subplot(132)\n",
    "    total_CFR = [0] + [100 * D[i] / sum(delta*E[:i]) if sum(delta*E[:i])>0 else 0 for i in range(1, len(t))]\n",
    "    daily_CFR = [0] + [100 * ((D[i]-D[i-1]) / ((R[i]-R[i-1]) + (D[i]-D[i-1]))) if max((R[i]-R[i-1]), (D[i]-D[i-1]))>10 else 0 for i in range(1, len(t))]\n",
    "    if x_ticks is None:\n",
    "        ax2.plot(t, total_CFR, 'r--', alpha=0.7, linewidth=2, label='total')\n",
    "        ax2.plot(t, daily_CFR, 'b--', alpha=0.7, linewidth=2, label='daily')\n",
    "    else:\n",
    "        ax2.plot(x_ticks, total_CFR, 'r--', alpha=0.7, linewidth=2, label='total')\n",
    "        ax2.plot(x_ticks, daily_CFR, 'b--', alpha=0.7, linewidth=2, label='daily')\n",
    "        ax2.xaxis.set_major_locator(mdates.YearLocator())\n",
    "        ax2.xaxis.set_major_formatter(mdates.DateFormatter('%Y-%m-%d'))\n",
    "        ax2.xaxis.set_minor_locator(mdates.MonthLocator())\n",
    "        f.autofmt_xdate()\n",
    "\n",
    "    ax2.title.set_text('Fatality Rate (%)')\n",
    "    ax2.grid(b=True, which='major', c='w', lw=2, ls='-')\n",
    "    legend = ax2.legend()\n",
    "    legend.get_frame().set_alpha(0.5)\n",
    "    for spine in ('top', 'right', 'bottom', 'left'):\n",
    "        ax.spines[spine].set_visible(False)\n",
    "\n",
    "    # sp3\n",
    "    ax3 = f.add_subplot(133)\n",
    "    newDs = [0] + [D[i]-D[i-1] for i in range(1, len(t))]\n",
    "    if x_ticks is None:\n",
    "        ax3.plot(t, newDs, 'r--', alpha=0.7, linewidth=2, label='total')\n",
    "        ax3.plot(t, [max(0, C[i]-B(i)) for i in range(len(t))], 'b--', alpha=0.7, linewidth=2, label=\"over capacity\")\n",
    "    else:\n",
    "        ax3.plot(x_ticks, newDs, 'r--', alpha=0.7, linewidth=2, label='total')\n",
    "        ax3.plot(x_ticks, [max(0, C[i]-B(i)) for i in range(len(t))], 'b--', alpha=0.7, linewidth=2, label=\"over capacity\")\n",
    "        ax3.xaxis.set_major_locator(mdates.YearLocator())\n",
    "        ax3.xaxis.set_major_formatter(mdates.DateFormatter('%Y-%m-%d'))\n",
    "        ax3.xaxis.set_minor_locator(mdates.MonthLocator())\n",
    "        f.autofmt_xdate()\n",
    "\n",
    "    ax3.title.set_text('Deaths per day')\n",
    "    ax3.yaxis.set_tick_params(length=0)\n",
    "    ax3.xaxis.set_tick_params(length=0)\n",
    "    ax3.grid(b=True, which='major', c='w', lw=2, ls='-')\n",
    "    legend = ax3.legend()\n",
    "    legend.get_frame().set_alpha(0.5)\n",
    "    for spine in ('top', 'right', 'bottom', 'left'):\n",
    "        ax.spines[spine].set_visible(False)\n",
    "\n",
    "    plt.show();\n"
   ]
  },
  {
   "cell_type": "code",
   "execution_count": null,
   "metadata": {
    "colab": {
     "base_uri": "https://localhost:8080/",
     "height": 579
    },
    "colab_type": "code",
    "id": "BqzpMms0aVxM",
    "outputId": "c777f922-add8-417a-904a-12459b23374f"
   },
   "outputs": [],
   "source": [
    "full_days = 10\n",
    "first_date = np.datetime64(covid_data.Date.min()) - np.timedelta64(outbreak_shift,'D')\n",
    "x_ticks = pd.date_range(start=first_date, periods=full_days, freq=\"D\")\n",
    "print(\"Prediction for Italy\")\n",
    "plotter(*Model(full_days, agegroups_map[\"India\"], bed_map[\"India\"], **result.best_values))"
   ]
  },
  {
   "cell_type": "code",
   "execution_count": null,
   "metadata": {
    "colab": {
     "base_uri": "https://localhost:8080/",
     "height": 263
    },
    "colab_type": "code",
    "id": "3LGLdqINbJZJ",
    "outputId": "c200e162-4bb7-422e-e51c-a9ffd8f3c66d"
   },
   "outputs": [],
   "source": [
    "fig, ax = plt.subplots()\n",
    "ax.plot(t, S, 'b', alpha=0.7, linewidth=2, label='Susceptible')\n",
    "ax.plot(t, E, 'y', alpha=0.7, linewidth=2, label='Exposed')\n",
    "ax.plot(t, I, 'r', alpha=0.7, linewidth=2, label='Infected')\n",
    "ax.plot(t, C, 'r--', alpha=0.7, linewidth=2, label='Critical')\n",
    "ax.plot(t, R, 'g', alpha=0.7, linewidth=2, label='Recovered')\n",
    "ax.plot(t, D, 'k', alpha=0.7, linewidth=2, label='Dead')\n",
    "ax.xaxis.set_major_locator(years)\n",
    "ax.legend(loc='best')\n",
    "plt.show()"
   ]
  }
 ],
 "metadata": {
  "colab": {
   "authorship_tag": "ABX9TyNeo8pRyso0qpdjH8yijVYX",
   "collapsed_sections": [],
   "include_colab_link": true,
   "name": "Extended_SEIR.ipynb",
   "provenance": []
  },
  "kernelspec": {
   "display_name": "Python 3",
   "language": "python",
   "name": "python3"
  },
  "language_info": {
   "codemirror_mode": {
    "name": "ipython",
    "version": 3
   },
   "file_extension": ".py",
   "mimetype": "text/x-python",
   "name": "python",
   "nbconvert_exporter": "python",
   "pygments_lexer": "ipython3",
   "version": "3.8.3"
  }
 },
 "nbformat": 4,
 "nbformat_minor": 1
}
